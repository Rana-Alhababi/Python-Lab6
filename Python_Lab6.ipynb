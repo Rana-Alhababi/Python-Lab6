{
  "nbformat": 4,
  "nbformat_minor": 0,
  "metadata": {
    "colab": {
      "provenance": []
    },
    "kernelspec": {
      "name": "python3",
      "display_name": "Python 3"
    },
    "language_info": {
      "name": "python"
    }
  },
  "cells": [
    {
      "cell_type": "markdown",
      "source": [
        "Given the following list : [5, 4, 17, 19, 30, 2, 7, 10, 45]\n",
        "\n"
      ],
      "metadata": {
        "id": "WMovXaGBcDbY"
      }
    },
    {
      "cell_type": "markdown",
      "source": [
        "\n",
        "Q1: Write a Python program to sum all the items in the list."
      ],
      "metadata": {
        "id": "cXUuja-5cHED"
      }
    },
    {
      "cell_type": "code",
      "source": [
        "my_list = [5, 4, 17, 19, 30, 2, 7, 10, 45]\n",
        "total = sum(my_list)\n",
        "print(\"The Sum of all items:\", total)"
      ],
      "metadata": {
        "colab": {
          "base_uri": "https://localhost:8080/"
        },
        "id": "UJfDrnZ7cTd5",
        "outputId": "781f4100-1a79-4b95-dbd8-8fa5a45b0c5b"
      },
      "execution_count": 4,
      "outputs": [
        {
          "output_type": "stream",
          "name": "stdout",
          "text": [
            "The Sum of all items: 139\n"
          ]
        }
      ]
    },
    {
      "cell_type": "markdown",
      "source": [
        "Q2: Write a Python program to get the largest number from the list."
      ],
      "metadata": {
        "id": "pRHrRz5TcK3h"
      }
    },
    {
      "cell_type": "code",
      "source": [
        "from typing import TYPE_CHECKING\n",
        "my_list = [5, 4, 17, 19, 30, 2, 7, 10, 45]\n",
        "largest_number = max(my_list)\n",
        "print(\"The Largest number is:\", largest_number)"
      ],
      "metadata": {
        "colab": {
          "base_uri": "https://localhost:8080/"
        },
        "id": "FOeYf2DhcURk",
        "outputId": "0d53224b-0b68-45fb-db2e-c977c15e137c"
      },
      "execution_count": 5,
      "outputs": [
        {
          "output_type": "stream",
          "name": "stdout",
          "text": [
            "The Largest number is: 45\n"
          ]
        }
      ]
    },
    {
      "cell_type": "markdown",
      "source": [
        "Q3: Use list comprehension, create a new list from the above list containing only even numbers."
      ],
      "metadata": {
        "id": "YImO8arfcO_o"
      }
    },
    {
      "cell_type": "code",
      "source": [
        "my_list = [5, 4, 17, 19, 30, 2, 7, 10, 45]\n",
        "even_numbers = [num for num in my_list if num % 2 == 0]\n",
        "print(\"List of even numbers:\", even_numbers)"
      ],
      "metadata": {
        "id": "VJBeguq4cU2v",
        "colab": {
          "base_uri": "https://localhost:8080/"
        },
        "outputId": "8d60bf82-f127-48dc-a21a-7abb9cd6646e"
      },
      "execution_count": 6,
      "outputs": [
        {
          "output_type": "stream",
          "name": "stdout",
          "text": [
            "List of even numbers: [4, 30, 2, 10]\n"
          ]
        }
      ]
    },
    {
      "cell_type": "markdown",
      "source": [
        "\n",
        "Q4: Use list slicing to get a new list from the previous list starting from the start to the 5th element in the list."
      ],
      "metadata": {
        "id": "9htrcZOycQM-"
      }
    },
    {
      "cell_type": "code",
      "execution_count": 7,
      "metadata": {
        "id": "lmZv5UWub7ev",
        "colab": {
          "base_uri": "https://localhost:8080/"
        },
        "outputId": "fdbd8de0-9ca9-4303-a5bb-17647c123915"
      },
      "outputs": [
        {
          "output_type": "stream",
          "name": "stdout",
          "text": [
            "New list using list slicing: [5, 4, 17, 19, 30]\n"
          ]
        }
      ],
      "source": [
        "my_list = [5, 4, 17, 19, 30, 2, 7, 10, 45]\n",
        "new_list = my_list[:5]\n",
        "print(\"New list using list slicing:\", new_list)"
      ]
    }
  ]
}